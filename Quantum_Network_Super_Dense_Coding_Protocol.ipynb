{
  "nbformat": 4,
  "nbformat_minor": 0,
  "metadata": {
    "colab": {
      "provenance": [],
      "authorship_tag": "ABX9TyOaHQR3LbO1xdpnNEqr/boV",
      "include_colab_link": true
    },
    "kernelspec": {
      "name": "python3",
      "display_name": "Python 3"
    },
    "language_info": {
      "name": "python"
    }
  },
  "cells": [
    {
      "cell_type": "markdown",
      "metadata": {
        "id": "view-in-github",
        "colab_type": "text"
      },
      "source": [
        "<a href=\"https://colab.research.google.com/github/Vigneshkadi03/Quantum-Network-Super-Dense-Coding-Protocol/blob/main/Quantum_Network_Super_Dense_Coding_Protocol.ipynb\" target=\"_parent\"><img src=\"https://colab.research.google.com/assets/colab-badge.svg\" alt=\"Open In Colab\"/></a>"
      ]
    },
    {
      "cell_type": "code",
      "execution_count": null,
      "metadata": {
        "id": "UCq8qhpu6j6U"
      },
      "outputs": [],
      "source": [
        "from google.colab import drive"
      ]
    },
    {
      "cell_type": "code",
      "source": [
        "drive.mount('/content/drive')"
      ],
      "metadata": {
        "colab": {
          "base_uri": "https://localhost:8080/"
        },
        "id": "2XK-1rTj7WVY",
        "outputId": "c59fdcd5-1b26-48a8-c786-2b362762f8b4"
      },
      "execution_count": null,
      "outputs": [
        {
          "output_type": "stream",
          "name": "stdout",
          "text": [
            "Mounted at /content/drive\n"
          ]
        }
      ]
    },
    {
      "cell_type": "code",
      "source": [
        "!pip install qiskit"
      ],
      "metadata": {
        "colab": {
          "base_uri": "https://localhost:8080/"
        },
        "id": "LkAKJenk7mTW",
        "outputId": "35c71bb1-8b69-4d4f-9819-f3c6f82e607e"
      },
      "execution_count": null,
      "outputs": [
        {
          "output_type": "stream",
          "name": "stdout",
          "text": [
            "Collecting qiskit\n",
            "  Downloading qiskit-1.2.4-cp38-abi3-manylinux_2_17_x86_64.manylinux2014_x86_64.whl.metadata (12 kB)\n",
            "Collecting rustworkx>=0.15.0 (from qiskit)\n",
            "  Downloading rustworkx-0.15.1-cp38-abi3-manylinux_2_17_x86_64.manylinux2014_x86_64.whl.metadata (9.9 kB)\n",
            "Requirement already satisfied: numpy<3,>=1.17 in /usr/local/lib/python3.10/dist-packages (from qiskit) (1.26.4)\n",
            "Requirement already satisfied: scipy>=1.5 in /usr/local/lib/python3.10/dist-packages (from qiskit) (1.13.1)\n",
            "Requirement already satisfied: sympy>=1.3 in /usr/local/lib/python3.10/dist-packages (from qiskit) (1.13.1)\n",
            "Collecting dill>=0.3 (from qiskit)\n",
            "  Downloading dill-0.3.9-py3-none-any.whl.metadata (10 kB)\n",
            "Requirement already satisfied: python-dateutil>=2.8.0 in /usr/local/lib/python3.10/dist-packages (from qiskit) (2.8.2)\n",
            "Collecting stevedore>=3.0.0 (from qiskit)\n",
            "  Downloading stevedore-5.4.0-py3-none-any.whl.metadata (2.3 kB)\n",
            "Requirement already satisfied: typing-extensions in /usr/local/lib/python3.10/dist-packages (from qiskit) (4.12.2)\n",
            "Collecting symengine<0.14,>=0.11 (from qiskit)\n",
            "  Downloading symengine-0.13.0-cp310-cp310-manylinux_2_17_x86_64.manylinux2014_x86_64.whl.metadata (1.2 kB)\n",
            "Requirement already satisfied: six>=1.5 in /usr/local/lib/python3.10/dist-packages (from python-dateutil>=2.8.0->qiskit) (1.16.0)\n",
            "Collecting pbr>=2.0.0 (from stevedore>=3.0.0->qiskit)\n",
            "  Downloading pbr-6.1.0-py2.py3-none-any.whl.metadata (3.4 kB)\n",
            "Requirement already satisfied: mpmath<1.4,>=1.1.0 in /usr/local/lib/python3.10/dist-packages (from sympy>=1.3->qiskit) (1.3.0)\n",
            "Downloading qiskit-1.2.4-cp38-abi3-manylinux_2_17_x86_64.manylinux2014_x86_64.whl (4.8 MB)\n",
            "\u001b[2K   \u001b[90m━━━━━━━━━━━━━━━━━━━━━━━━━━━━━━━━━━━━━━━━\u001b[0m \u001b[32m4.8/4.8 MB\u001b[0m \u001b[31m7.1 MB/s\u001b[0m eta \u001b[36m0:00:00\u001b[0m\n",
            "\u001b[?25hDownloading dill-0.3.9-py3-none-any.whl (119 kB)\n",
            "\u001b[2K   \u001b[90m━━━━━━━━━━━━━━━━━━━━━━━━━━━━━━━━━━━━━━━━\u001b[0m \u001b[32m119.4/119.4 kB\u001b[0m \u001b[31m5.7 MB/s\u001b[0m eta \u001b[36m0:00:00\u001b[0m\n",
            "\u001b[?25hDownloading rustworkx-0.15.1-cp38-abi3-manylinux_2_17_x86_64.manylinux2014_x86_64.whl (2.0 MB)\n",
            "\u001b[2K   \u001b[90m━━━━━━━━━━━━━━━━━━━━━━━━━━━━━━━━━━━━━━━━\u001b[0m \u001b[32m2.0/2.0 MB\u001b[0m \u001b[31m13.7 MB/s\u001b[0m eta \u001b[36m0:00:00\u001b[0m\n",
            "\u001b[?25hDownloading stevedore-5.4.0-py3-none-any.whl (49 kB)\n",
            "\u001b[2K   \u001b[90m━━━━━━━━━━━━━━━━━━━━━━━━━━━━━━━━━━━━━━━━\u001b[0m \u001b[32m49.5/49.5 kB\u001b[0m \u001b[31m2.7 MB/s\u001b[0m eta \u001b[36m0:00:00\u001b[0m\n",
            "\u001b[?25hDownloading symengine-0.13.0-cp310-cp310-manylinux_2_17_x86_64.manylinux2014_x86_64.whl (49.7 MB)\n",
            "\u001b[2K   \u001b[90m━━━━━━━━━━━━━━━━━━━━━━━━━━━━━━━━━━━━━━━━\u001b[0m \u001b[32m49.7/49.7 MB\u001b[0m \u001b[31m7.0 MB/s\u001b[0m eta \u001b[36m0:00:00\u001b[0m\n",
            "\u001b[?25hDownloading pbr-6.1.0-py2.py3-none-any.whl (108 kB)\n",
            "\u001b[2K   \u001b[90m━━━━━━━━━━━━━━━━━━━━━━━━━━━━━━━━━━━━━━━━\u001b[0m \u001b[32m108.5/108.5 kB\u001b[0m \u001b[31m7.0 MB/s\u001b[0m eta \u001b[36m0:00:00\u001b[0m\n",
            "\u001b[?25hInstalling collected packages: symengine, rustworkx, pbr, dill, stevedore, qiskit\n",
            "Successfully installed dill-0.3.9 pbr-6.1.0 qiskit-1.2.4 rustworkx-0.15.1 stevedore-5.4.0 symengine-0.13.0\n"
          ]
        }
      ]
    },
    {
      "cell_type": "code",
      "source": [
        "!pip install qiskit_aer"
      ],
      "metadata": {
        "colab": {
          "base_uri": "https://localhost:8080/"
        },
        "id": "iUD3aDDVEddZ",
        "outputId": "93f13b7f-af90-4f57-a3d7-d575a2f756e6"
      },
      "execution_count": null,
      "outputs": [
        {
          "output_type": "stream",
          "name": "stdout",
          "text": [
            "Collecting qiskit_aer\n",
            "  Downloading qiskit_aer-0.15.1-cp310-cp310-manylinux_2_17_x86_64.manylinux2014_x86_64.whl.metadata (8.0 kB)\n",
            "Requirement already satisfied: qiskit>=1.1.0 in /usr/local/lib/python3.10/dist-packages (from qiskit_aer) (1.2.4)\n",
            "Requirement already satisfied: numpy>=1.16.3 in /usr/local/lib/python3.10/dist-packages (from qiskit_aer) (1.26.4)\n",
            "Requirement already satisfied: scipy>=1.0 in /usr/local/lib/python3.10/dist-packages (from qiskit_aer) (1.13.1)\n",
            "Requirement already satisfied: psutil>=5 in /usr/local/lib/python3.10/dist-packages (from qiskit_aer) (5.9.5)\n",
            "Requirement already satisfied: rustworkx>=0.15.0 in /usr/local/lib/python3.10/dist-packages (from qiskit>=1.1.0->qiskit_aer) (0.15.1)\n",
            "Requirement already satisfied: sympy>=1.3 in /usr/local/lib/python3.10/dist-packages (from qiskit>=1.1.0->qiskit_aer) (1.13.1)\n",
            "Requirement already satisfied: dill>=0.3 in /usr/local/lib/python3.10/dist-packages (from qiskit>=1.1.0->qiskit_aer) (0.3.9)\n",
            "Requirement already satisfied: python-dateutil>=2.8.0 in /usr/local/lib/python3.10/dist-packages (from qiskit>=1.1.0->qiskit_aer) (2.8.2)\n",
            "Requirement already satisfied: stevedore>=3.0.0 in /usr/local/lib/python3.10/dist-packages (from qiskit>=1.1.0->qiskit_aer) (5.4.0)\n",
            "Requirement already satisfied: typing-extensions in /usr/local/lib/python3.10/dist-packages (from qiskit>=1.1.0->qiskit_aer) (4.12.2)\n",
            "Requirement already satisfied: symengine<0.14,>=0.11 in /usr/local/lib/python3.10/dist-packages (from qiskit>=1.1.0->qiskit_aer) (0.13.0)\n",
            "Requirement already satisfied: six>=1.5 in /usr/local/lib/python3.10/dist-packages (from python-dateutil>=2.8.0->qiskit>=1.1.0->qiskit_aer) (1.16.0)\n",
            "Requirement already satisfied: pbr>=2.0.0 in /usr/local/lib/python3.10/dist-packages (from stevedore>=3.0.0->qiskit>=1.1.0->qiskit_aer) (6.1.0)\n",
            "Requirement already satisfied: mpmath<1.4,>=1.1.0 in /usr/local/lib/python3.10/dist-packages (from sympy>=1.3->qiskit>=1.1.0->qiskit_aer) (1.3.0)\n",
            "Downloading qiskit_aer-0.15.1-cp310-cp310-manylinux_2_17_x86_64.manylinux2014_x86_64.whl (12.3 MB)\n",
            "\u001b[2K   \u001b[90m━━━━━━━━━━━━━━━━━━━━━━━━━━━━━━━━━━━━━━━━\u001b[0m \u001b[32m12.3/12.3 MB\u001b[0m \u001b[31m26.7 MB/s\u001b[0m eta \u001b[36m0:00:00\u001b[0m\n",
            "\u001b[?25hInstalling collected packages: qiskit_aer\n",
            "Successfully installed qiskit_aer-0.15.1\n"
          ]
        }
      ]
    },
    {
      "cell_type": "code",
      "source": [
        "import qiskit\n",
        "import qiskit_aer\n",
        "\n",
        "print(\"Qiskit version:\", qiskit.__version__)\n",
        "print(\"Qiskit-Aer version:\", qiskit_aer.__version__)"
      ],
      "metadata": {
        "colab": {
          "base_uri": "https://localhost:8080/"
        },
        "id": "lh5vnwjO75Ye",
        "outputId": "9fce8ca7-165a-4220-a9a4-028afe3ce361"
      },
      "execution_count": null,
      "outputs": [
        {
          "output_type": "stream",
          "name": "stdout",
          "text": [
            "Qiskit version: 1.2.4\n",
            "Qiskit-Aer version: 0.15.1\n"
          ]
        }
      ]
    },
    {
      "cell_type": "code",
      "source": [
        "from qiskit import QuantumCircuit, transpile, assemble\n",
        "from qiskit.visualization import plot_histogram\n",
        "from qiskit_aer import AerSimulator\n",
        "from qiskit_aer.noise import NoiseModel\n",
        "from qiskit_aer.noise.errors import pauli_error, depolarizing_error"
      ],
      "metadata": {
        "id": "p25OZ2UZENR4"
      },
      "execution_count": null,
      "outputs": []
    },
    {
      "cell_type": "code",
      "source": [
        "def create_entanglement(qc):\n",
        "    qc.h(0)     # Apply Hadamard gate to qubit 0\n",
        "    qc.cx(0, 1) # Apply CNOT gate with qubit 0 as control and qubit 1 as target\n",
        "    return qc"
      ],
      "metadata": {
        "id": "RO-7OceHEvCc"
      },
      "execution_count": null,
      "outputs": []
    },
    {
      "cell_type": "code",
      "source": [
        "def encode_message(qc, message):\n",
        "    if message == '00':\n",
        "        pass  # Do nothing\n",
        "    elif message == '01':\n",
        "        qc.x(0)  # Apply X gate\n",
        "    elif message == '10':\n",
        "        qc.z(0)  # Apply Z gate\n",
        "    elif message == '11':\n",
        "        qc.z(0)\n",
        "        qc.x(0)  # Apply both Z and X gates\n",
        "    else:\n",
        "        raise ValueError(\"Message must be one of '00', '01', '10', or '11'\")\n",
        "    return qc"
      ],
      "metadata": {
        "id": "3WokcfdBFBIn"
      },
      "execution_count": null,
      "outputs": []
    },
    {
      "cell_type": "code",
      "source": [
        "def decode_message(qc):\n",
        "    qc.cx(0, 1)\n",
        "    qc.h(0)\n",
        "    return qc"
      ],
      "metadata": {
        "id": "7gboF8vMFDca"
      },
      "execution_count": null,
      "outputs": []
    },
    {
      "cell_type": "code",
      "source": [
        "def add_noise_model():\n",
        "    # Define a simple noise model\n",
        "    error_prob = 0.01\n",
        "    noise_model = NoiseModel()\n",
        "\n",
        "    # Add depolarizing error to the noise model\n",
        "    dep_error = depolarizing_error(error_prob, 1)\n",
        "    noise_model.add_all_qubit_quantum_error(dep_error, ['u1', 'u2', 'u3'])\n",
        "\n",
        "    # Add measurement error\n",
        "    meas_error = pauli_error([('X', error_prob), ('I', 1 - error_prob)])\n",
        "    noise_model.add_all_qubit_quantum_error(meas_error, 'measure')\n",
        "\n",
        "    return noise_model"
      ],
      "metadata": {
        "id": "oMKx-GKEFH3X"
      },
      "execution_count": null,
      "outputs": []
    },
    {
      "cell_type": "code",
      "source": [
        "\n",
        "def superdense_coding(message):\n",
        "    qc = QuantumCircuit(2, 2)\n",
        "\n",
        "    # Step 1: Create entanglement\n",
        "    qc = create_entanglement(qc)\n",
        "\n",
        "    # Log the state\n",
        "    print(\"State after entanglement creation:\")\n",
        "    print(qc.draw())\n",
        "\n",
        "    # Step 2: Encode the message\n",
        "    qc = encode_message(qc, message)\n",
        "\n",
        "    # Log the state\n",
        "    print(f\"State after encoding message '{message}':\")\n",
        "    print(qc.draw())\n",
        "\n",
        "    # Step 3: Decode the message\n",
        "    qc = decode_message(qc)\n",
        "\n",
        "    # Log the state\n",
        "    print(\"State after decoding the message:\")\n",
        "    print(qc.draw())\n",
        "\n",
        "    # Step 4: Measure the qubits\n",
        "    qc.measure([0, 1], [0, 1])\n",
        "\n",
        "    # Simulate the circuit on a noisy simulator\n",
        "    backend = AerSimulator()\n",
        "    noise_model = add_noise_model()\n",
        "    compiled_circuit = transpile(qc, backend)\n",
        "    qobj = assemble(compiled_circuit)\n",
        "    job = backend.run(qobj, shots=1024, noise_model=noise_model)\n",
        "    result = job.result()\n",
        "    counts = result.get_counts()\n",
        "\n",
        "    # Visualize the result\n",
        "    print(\"Measurement outcomes:\")\n",
        "    print(counts)\n",
        "    plot_histogram(counts).show()"
      ],
      "metadata": {
        "id": "dvz_5GcLFMCO"
      },
      "execution_count": null,
      "outputs": []
    },
    {
      "cell_type": "code",
      "source": [
        "def superdense_coding(message):\n",
        "    qc = QuantumCircuit(2, 2)\n",
        "\n",
        "    # Step 1: Create entanglement\n",
        "    qc = create_entanglement(qc)\n",
        "\n",
        "    # Log the state\n",
        "    print(\"State after entanglement creation:\")\n",
        "    print(qc.draw())\n",
        "\n",
        "    # Step 2: Encode the message\n",
        "    qc = encode_message(qc, message)\n",
        "\n",
        "    # Log the state\n",
        "    print(f\"State after encoding message '{message}':\")\n",
        "    print(qc.draw())\n",
        "\n",
        "    # Step 3: Decode the message\n",
        "    qc = decode_message(qc)\n",
        "\n",
        "    # Log the state\n",
        "    print(\"State after decoding the message:\")\n",
        "    print(qc.draw())\n",
        "\n",
        "    # Step 4: Measure the qubits\n",
        "    qc.measure([0, 1], [0, 1])\n",
        "\n",
        "    # Simulate the circuit on a noisy simulator\n",
        "    backend = AerSimulator()\n",
        "    noise_model = add_noise_model()\n",
        "    compiled_circuit = transpile(qc, backend)\n",
        "    qobj = assemble(compiled_circuit)\n",
        "    job = backend.run(qobj, shots=1024, noise_model=noise_model)\n",
        "    result = backend.run(compiled_circuit).result()\n",
        "    counts = result.get_counts()\n",
        "\n",
        "    # Visualize the result\n",
        "    print(\"Measurement outcomes:\")\n",
        "    print(counts)\n",
        "    plot_histogram(counts).show()\n",
        "\n",
        "if __name__ == \"__main__\":\n",
        "    # Test with different messages\n",
        "    for msg in ['00', '01', '10', '11']:\n",
        "        print(f\"Running superdense coding for message: {msg}\")\n",
        "        superdense_coding(msg)\n"
      ],
      "metadata": {
        "colab": {
          "base_uri": "https://localhost:8080/"
        },
        "id": "6GJhdyafFrMY",
        "outputId": "e5822f80-321d-4129-eaf6-a02a0a7884c2"
      },
      "execution_count": null,
      "outputs": [
        {
          "output_type": "stream",
          "name": "stdout",
          "text": [
            "Running superdense coding for message: 00\n",
            "State after entanglement creation:\n",
            "     ┌───┐     \n",
            "q_0: ┤ H ├──■──\n",
            "     └───┘┌─┴─┐\n",
            "q_1: ─────┤ X ├\n",
            "          └───┘\n",
            "c: 2/══════════\n",
            "               \n",
            "State after encoding message '00':\n",
            "     ┌───┐     \n",
            "q_0: ┤ H ├──■──\n",
            "     └───┘┌─┴─┐\n",
            "q_1: ─────┤ X ├\n",
            "          └───┘\n",
            "c: 2/══════════\n",
            "               \n",
            "State after decoding the message:\n",
            "     ┌───┐          ┌───┐\n",
            "q_0: ┤ H ├──■────■──┤ H ├\n",
            "     └───┘┌─┴─┐┌─┴─┐└───┘\n",
            "q_1: ─────┤ X ├┤ X ├─────\n",
            "          └───┘└───┘     \n",
            "c: 2/════════════════════\n",
            "                         \n",
            "Measurement outcomes:\n",
            "{'00': 1024}\n"
          ]
        },
        {
          "output_type": "stream",
          "name": "stderr",
          "text": [
            "<ipython-input-15-31bf718925df>:32: DeprecationWarning: The function ``qiskit.compiler.assembler.assemble()`` is deprecated as of qiskit 1.2. It will be removed in the 2.0 release. The `Qobj` class and related functionality are part of the deprecated `BackendV1` workflow,  and no longer necessary for `BackendV2`. If a user workflow requires `Qobj` it likely relies on deprecated functionality and should be updated to use `BackendV2`.\n",
            "  qobj = assemble(compiled_circuit)\n"
          ]
        },
        {
          "output_type": "stream",
          "name": "stdout",
          "text": [
            "Running superdense coding for message: 01\n",
            "State after entanglement creation:\n",
            "     ┌───┐     \n",
            "q_0: ┤ H ├──■──\n",
            "     └───┘┌─┴─┐\n",
            "q_1: ─────┤ X ├\n",
            "          └───┘\n",
            "c: 2/══════════\n",
            "               \n",
            "State after encoding message '01':\n",
            "     ┌───┐     ┌───┐\n",
            "q_0: ┤ H ├──■──┤ X ├\n",
            "     └───┘┌─┴─┐└───┘\n",
            "q_1: ─────┤ X ├─────\n",
            "          └───┘     \n",
            "c: 2/═══════════════\n",
            "                    \n",
            "State after decoding the message:\n",
            "     ┌───┐     ┌───┐     ┌───┐\n",
            "q_0: ┤ H ├──■──┤ X ├──■──┤ H ├\n",
            "     └───┘┌─┴─┐└───┘┌─┴─┐└───┘\n",
            "q_1: ─────┤ X ├─────┤ X ├─────\n",
            "          └───┘     └───┘     \n",
            "c: 2/═════════════════════════\n",
            "                              \n",
            "Measurement outcomes:\n",
            "{'10': 1024}\n"
          ]
        },
        {
          "output_type": "stream",
          "name": "stderr",
          "text": [
            "<ipython-input-15-31bf718925df>:32: DeprecationWarning: The function ``qiskit.compiler.assembler.assemble()`` is deprecated as of qiskit 1.2. It will be removed in the 2.0 release. The `Qobj` class and related functionality are part of the deprecated `BackendV1` workflow,  and no longer necessary for `BackendV2`. If a user workflow requires `Qobj` it likely relies on deprecated functionality and should be updated to use `BackendV2`.\n",
            "  qobj = assemble(compiled_circuit)\n"
          ]
        },
        {
          "output_type": "stream",
          "name": "stdout",
          "text": [
            "Running superdense coding for message: 10\n",
            "State after entanglement creation:\n",
            "     ┌───┐     \n",
            "q_0: ┤ H ├──■──\n",
            "     └───┘┌─┴─┐\n",
            "q_1: ─────┤ X ├\n",
            "          └───┘\n",
            "c: 2/══════════\n",
            "               \n",
            "State after encoding message '10':\n",
            "     ┌───┐     ┌───┐\n",
            "q_0: ┤ H ├──■──┤ Z ├\n",
            "     └───┘┌─┴─┐└───┘\n",
            "q_1: ─────┤ X ├─────\n",
            "          └───┘     \n",
            "c: 2/═══════════════\n",
            "                    \n",
            "State after decoding the message:\n",
            "     ┌───┐     ┌───┐     ┌───┐\n",
            "q_0: ┤ H ├──■──┤ Z ├──■──┤ H ├\n",
            "     └───┘┌─┴─┐└───┘┌─┴─┐└───┘\n",
            "q_1: ─────┤ X ├─────┤ X ├─────\n",
            "          └───┘     └───┘     \n",
            "c: 2/═════════════════════════\n",
            "                              \n",
            "Measurement outcomes:\n",
            "{'01': 1024}\n",
            "Running superdense coding for message: 11\n",
            "State after entanglement creation:"
          ]
        },
        {
          "output_type": "stream",
          "name": "stderr",
          "text": [
            "<ipython-input-15-31bf718925df>:32: DeprecationWarning: The function ``qiskit.compiler.assembler.assemble()`` is deprecated as of qiskit 1.2. It will be removed in the 2.0 release. The `Qobj` class and related functionality are part of the deprecated `BackendV1` workflow,  and no longer necessary for `BackendV2`. If a user workflow requires `Qobj` it likely relies on deprecated functionality and should be updated to use `BackendV2`.\n",
            "  qobj = assemble(compiled_circuit)\n"
          ]
        },
        {
          "output_type": "stream",
          "name": "stdout",
          "text": [
            "\n",
            "     ┌───┐     \n",
            "q_0: ┤ H ├──■──\n",
            "     └───┘┌─┴─┐\n",
            "q_1: ─────┤ X ├\n",
            "          └───┘\n",
            "c: 2/══════════\n",
            "               \n",
            "State after encoding message '11':\n",
            "     ┌───┐     ┌───┐┌───┐\n",
            "q_0: ┤ H ├──■──┤ Z ├┤ X ├\n",
            "     └───┘┌─┴─┐└───┘└───┘\n",
            "q_1: ─────┤ X ├──────────\n",
            "          └───┘          \n",
            "c: 2/════════════════════\n",
            "                         \n",
            "State after decoding the message:\n",
            "     ┌───┐     ┌───┐┌───┐     ┌───┐\n",
            "q_0: ┤ H ├──■──┤ Z ├┤ X ├──■──┤ H ├\n",
            "     └───┘┌─┴─┐└───┘└───┘┌─┴─┐└───┘\n",
            "q_1: ─────┤ X ├──────────┤ X ├─────\n",
            "          └───┘          └───┘     \n",
            "c: 2/══════════════════════════════\n",
            "                                   \n",
            "Measurement outcomes:\n",
            "{'11': 1024}\n"
          ]
        },
        {
          "output_type": "stream",
          "name": "stderr",
          "text": [
            "<ipython-input-15-31bf718925df>:32: DeprecationWarning: The function ``qiskit.compiler.assembler.assemble()`` is deprecated as of qiskit 1.2. It will be removed in the 2.0 release. The `Qobj` class and related functionality are part of the deprecated `BackendV1` workflow,  and no longer necessary for `BackendV2`. If a user workflow requires `Qobj` it likely relies on deprecated functionality and should be updated to use `BackendV2`.\n",
            "  qobj = assemble(compiled_circuit)\n"
          ]
        }
      ]
    }
  ]
}